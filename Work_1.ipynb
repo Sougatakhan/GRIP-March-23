{
  "nbformat": 4,
  "nbformat_minor": 0,
  "metadata": {
    "colab": {
      "provenance": []
    },
    "kernelspec": {
      "name": "ir",
      "display_name": "R"
    },
    "language_info": {
      "name": "R"
    }
  },
  "cells": [
    {
      "cell_type": "markdown",
      "source": [
        "#GRIP Task 1: Prediction using Supervised ML\n",
        "###Name: SOUGATA KHAN\n",
        "We have to predict the percentage of an student based on the no. of study hours.\n"
      ],
      "metadata": {
        "id": "W2IpAmniES4x"
      }
    },
    {
      "cell_type": "markdown",
      "source": [
        "###**Importing libraries and visualising the data**\n"
      ],
      "metadata": {
        "id": "8dt6wyzvIOPy"
      }
    },
    {
      "cell_type": "code",
      "source": [
        "#Installing the necessary libraries\n",
        "install.packages('Metrics')"
      ],
      "metadata": {
        "colab": {
          "base_uri": "https://localhost:8080/"
        },
        "id": "p9EJKojWKd1_",
        "outputId": "b290ba48-3515-4778-e89e-6811848fcd9e"
      },
      "execution_count": 30,
      "outputs": [
        {
          "output_type": "stream",
          "name": "stderr",
          "text": [
            "Installing package into ‘/usr/local/lib/R/site-library’\n",
            "(as ‘lib’ is unspecified)\n",
            "\n"
          ]
        }
      ]
    },
    {
      "cell_type": "code",
      "source": [
        "\n",
        "#Importing the necessary libraries\n",
        "library(Metrics)"
      ],
      "metadata": {
        "id": "l3ccmNy5L9KZ"
      },
      "execution_count": 31,
      "outputs": []
    },
    {
      "cell_type": "code",
      "source": [
        "#Reading the dataset\n",
        "reg_data<-read.csv('http://bit.ly/w-data')\n",
        "dim(reg_data)\n",
        "names(reg_data)"
      ],
      "metadata": {
        "colab": {
          "base_uri": "https://localhost:8080/",
          "height": 52
        },
        "id": "VflwVt79L-GP",
        "outputId": "9713ff19-80fd-4531-d271-552d91f306e4"
      },
      "execution_count": 32,
      "outputs": [
        {
          "output_type": "display_data",
          "data": {
            "text/html": [
              "<style>\n",
              ".list-inline {list-style: none; margin:0; padding: 0}\n",
              ".list-inline>li {display: inline-block}\n",
              ".list-inline>li:not(:last-child)::after {content: \"\\00b7\"; padding: 0 .5ex}\n",
              "</style>\n",
              "<ol class=list-inline><li>25</li><li>2</li></ol>\n"
            ],
            "text/markdown": "1. 25\n2. 2\n\n\n",
            "text/latex": "\\begin{enumerate*}\n\\item 25\n\\item 2\n\\end{enumerate*}\n",
            "text/plain": [
              "[1] 25  2"
            ]
          },
          "metadata": {}
        },
        {
          "output_type": "display_data",
          "data": {
            "text/html": [
              "<style>\n",
              ".list-inline {list-style: none; margin:0; padding: 0}\n",
              ".list-inline>li {display: inline-block}\n",
              ".list-inline>li:not(:last-child)::after {content: \"\\00b7\"; padding: 0 .5ex}\n",
              "</style>\n",
              "<ol class=list-inline><li>'Hours'</li><li>'Scores'</li></ol>\n"
            ],
            "text/markdown": "1. 'Hours'\n2. 'Scores'\n\n\n",
            "text/latex": "\\begin{enumerate*}\n\\item 'Hours'\n\\item 'Scores'\n\\end{enumerate*}\n",
            "text/plain": [
              "[1] \"Hours\"  \"Scores\""
            ]
          },
          "metadata": {}
        }
      ]
    },
    {
      "cell_type": "code",
      "source": [
        "#A brief preview of the dataset\n",
        "head(reg_data)"
      ],
      "metadata": {
        "colab": {
          "base_uri": "https://localhost:8080/",
          "height": 286
        },
        "id": "-EDGKsVpMZqw",
        "outputId": "5db0bd03-d8c6-4e6e-820b-8f7367a3802d"
      },
      "execution_count": 33,
      "outputs": [
        {
          "output_type": "display_data",
          "data": {
            "text/html": [
              "<table class=\"dataframe\">\n",
              "<caption>A data.frame: 6 × 2</caption>\n",
              "<thead>\n",
              "\t<tr><th></th><th scope=col>Hours</th><th scope=col>Scores</th></tr>\n",
              "\t<tr><th></th><th scope=col>&lt;dbl&gt;</th><th scope=col>&lt;int&gt;</th></tr>\n",
              "</thead>\n",
              "<tbody>\n",
              "\t<tr><th scope=row>1</th><td>2.5</td><td>21</td></tr>\n",
              "\t<tr><th scope=row>2</th><td>5.1</td><td>47</td></tr>\n",
              "\t<tr><th scope=row>3</th><td>3.2</td><td>27</td></tr>\n",
              "\t<tr><th scope=row>4</th><td>8.5</td><td>75</td></tr>\n",
              "\t<tr><th scope=row>5</th><td>3.5</td><td>30</td></tr>\n",
              "\t<tr><th scope=row>6</th><td>1.5</td><td>20</td></tr>\n",
              "</tbody>\n",
              "</table>\n"
            ],
            "text/markdown": "\nA data.frame: 6 × 2\n\n| <!--/--> | Hours &lt;dbl&gt; | Scores &lt;int&gt; |\n|---|---|---|\n| 1 | 2.5 | 21 |\n| 2 | 5.1 | 47 |\n| 3 | 3.2 | 27 |\n| 4 | 8.5 | 75 |\n| 5 | 3.5 | 30 |\n| 6 | 1.5 | 20 |\n\n",
            "text/latex": "A data.frame: 6 × 2\n\\begin{tabular}{r|ll}\n  & Hours & Scores\\\\\n  & <dbl> & <int>\\\\\n\\hline\n\t1 & 2.5 & 21\\\\\n\t2 & 5.1 & 47\\\\\n\t3 & 3.2 & 27\\\\\n\t4 & 8.5 & 75\\\\\n\t5 & 3.5 & 30\\\\\n\t6 & 1.5 & 20\\\\\n\\end{tabular}\n",
            "text/plain": [
              "  Hours Scores\n",
              "1 2.5   21    \n",
              "2 5.1   47    \n",
              "3 3.2   27    \n",
              "4 8.5   75    \n",
              "5 3.5   30    \n",
              "6 1.5   20    "
            ]
          },
          "metadata": {}
        }
      ]
    },
    {
      "cell_type": "markdown",
      "source": [
        "Now we plot the data points on a graph to check if there's any visible correlation between the variables."
      ],
      "metadata": {
        "id": "g8eZ7gBKMl5H"
      }
    },
    {
      "cell_type": "code",
      "source": [
        "plot(reg_data,main=\"Hours Vs Percentage of Score\",xlab=\"Hours Studied\",ylab=\"Percentage of Score\",pch=16,col=\"Red\")\n",
        "legend(x=1,y=95,'Scores',pch=16,col='Red')"
      ],
      "metadata": {
        "colab": {
          "base_uri": "https://localhost:8080/",
          "height": 437
        },
        "id": "kFAAW4_EM0t8",
        "outputId": "61d8769d-9f19-4463-cad5-dec40c6d2342"
      },
      "execution_count": 34,
      "outputs": [
        {
          "output_type": "display_data",
          "data": {
            "text/plain": [
              "Plot with title “Hours Vs Percentage of Score”"
            ],
            "image/png": "[encoded data removed]"
          },
          "metadata": {
            "image/png": {
              "width": 420,
              "height": 420
            }
          }
        }
      ]
    },
    {
      "cell_type": "markdown",
      "source": [
        "We see that there is a positive linear relationship between hours and percentage of score\n"
      ],
      "metadata": {
        "id": "GBE8sAPCM4Jw"
      }
    },
    {
      "cell_type": "markdown",
      "source": [
        "###**Preparing the data**"
      ],
      "metadata": {
        "id": "Un4OZ1aJSSFg"
      }
    },
    {
      "cell_type": "code",
      "source": [
        "set.seed(0)\n",
        "split<-sample(2,nrow(reg_data),replace=T,prob=c(0.7,0.3))\n",
        "train<-reg_data[split==1,]\n",
        "test<-reg_data[split==2,]"
      ],
      "metadata": {
        "id": "fWId_DwASaoA"
      },
      "execution_count": 35,
      "outputs": []
    },
    {
      "cell_type": "markdown",
      "source": [
        "Then, we split our data into training and test sets. We do this using the sample() method in R."
      ],
      "metadata": {
        "id": "AZTJVHi-Shyc"
      }
    },
    {
      "cell_type": "markdown",
      "source": [
        "###**Training the Algorithm**"
      ],
      "metadata": {
        "id": "2qidKeZJSm12"
      }
    },
    {
      "cell_type": "code",
      "source": [
        "lmodel<-lm(Scores~Hours,data=train)\n",
        "summary(lmodel)"
      ],
      "metadata": {
        "colab": {
          "base_uri": "https://localhost:8080/",
          "height": 344
        },
        "id": "2Y3o_TNLS5Mp",
        "outputId": "69ebd08c-7445-43e5-a11e-6d3570954bc9"
      },
      "execution_count": 36,
      "outputs": [
        {
          "output_type": "display_data",
          "data": {
            "text/plain": [
              "\n",
              "Call:\n",
              "lm(formula = Scores ~ Hours, data = train)\n",
              "\n",
              "Residuals:\n",
              "    Min      1Q  Median      3Q     Max \n",
              "-9.4004 -4.9187  0.4484  4.1205  8.2785 \n",
              "\n",
              "Coefficients:\n",
              "            Estimate Std. Error t value Pr(>|t|)    \n",
              "(Intercept)   3.2990     3.4673   0.951    0.358    \n",
              "Hours         9.5413     0.6219  15.341 3.78e-10 ***\n",
              "---\n",
              "Signif. codes:  0 ‘***’ 0.001 ‘**’ 0.01 ‘*’ 0.05 ‘.’ 0.1 ‘ ’ 1\n",
              "\n",
              "Residual standard error: 6.071 on 14 degrees of freedom\n",
              "Multiple R-squared:  0.9439,\tAdjusted R-squared:  0.9398 \n",
              "F-statistic: 235.4 on 1 and 14 DF,  p-value: 3.778e-10\n"
            ]
          },
          "metadata": {}
        }
      ]
    },
    {
      "cell_type": "markdown",
      "source": [
        "*   Residual is the difference between the observed value and the predicted value from the regression model. From the summary we can say the minimum residual is -9.4004 , the median residual is 0.4484 and the max residual was 8.2785 \n",
        "*   We can use these coefficients to form the following estimated regression equation: Scores = 3.2990+ 9.5413xHours\n",
        "*   The p-value that corresponds to the t-statistic for the predictor variable \"Hours\" is 3.78xe^-10 This value is less than level alpha = 0.05, so the predictor variable is statistically significant."
      ],
      "metadata": {
        "id": "j4TgzoiFTIz-"
      }
    },
    {
      "cell_type": "markdown",
      "source": [
        "###**Plotting the regression line**"
      ],
      "metadata": {
        "id": "4_cr1CHqmmla"
      }
    },
    {
      "cell_type": "code",
      "source": [
        "plot(reg_data,main=\"Hours Vs Percentage of Score\",xlab=\"Hours Studied\",ylab=\"Percentage of Score\",col=\"Red\")\n",
        "abline(lmodel,col=\"blue\")"
      ],
      "metadata": {
        "colab": {
          "base_uri": "https://localhost:8080/",
          "height": 437
        },
        "id": "d6mw5J4kmsEb",
        "outputId": "ee873f0c-94bb-4230-c16f-56df04a68443"
      },
      "execution_count": 37,
      "outputs": [
        {
          "output_type": "display_data",
          "data": {
            "text/plain": [
              "Plot with title “Hours Vs Percentage of Score”"
            ],
            "image/png": "[encoded data removed]"
          },
          "metadata": {
            "image/png": {
              "width": 420,
              "height": 420
            }
          }
        }
      ]
    },
    {
      "cell_type": "markdown",
      "source": [
        "###**Making Predictions**"
      ],
      "metadata": {
        "id": "7oxWE7R0m3zd"
      }
    },
    {
      "cell_type": "code",
      "source": [
        "test$Predicted_Score= predict(lmodel,newdata = test)\n",
        "test"
      ],
      "metadata": {
        "colab": {
          "base_uri": "https://localhost:8080/",
          "height": 380
        },
        "id": "pQZmUWAlnOhC",
        "outputId": "41177c78-713b-4919-87c0-456702db6c1d"
      },
      "execution_count": 38,
      "outputs": [
        {
          "output_type": "display_data",
          "data": {
            "text/html": [
              "<table class=\"dataframe\">\n",
              "<caption>A data.frame: 9 × 3</caption>\n",
              "<thead>\n",
              "\t<tr><th></th><th scope=col>Hours</th><th scope=col>Scores</th><th scope=col>Predicted_Score</th></tr>\n",
              "\t<tr><th></th><th scope=col>&lt;dbl&gt;</th><th scope=col>&lt;int&gt;</th><th scope=col>&lt;dbl&gt;</th></tr>\n",
              "</thead>\n",
              "<tbody>\n",
              "\t<tr><th scope=row>1</th><td>2.5</td><td>21</td><td>27.15238</td></tr>\n",
              "\t<tr><th scope=row>5</th><td>3.5</td><td>30</td><td>36.69372</td></tr>\n",
              "\t<tr><th scope=row>7</th><td>9.2</td><td>88</td><td>91.07936</td></tr>\n",
              "\t<tr><th scope=row>8</th><td>5.5</td><td>60</td><td>55.77640</td></tr>\n",
              "\t<tr><th scope=row>16</th><td>8.9</td><td>95</td><td>88.21696</td></tr>\n",
              "\t<tr><th scope=row>18</th><td>1.9</td><td>24</td><td>21.42758</td></tr>\n",
              "\t<tr><th scope=row>19</th><td>6.1</td><td>67</td><td>61.50121</td></tr>\n",
              "\t<tr><th scope=row>21</th><td>2.7</td><td>30</td><td>29.06065</td></tr>\n",
              "\t<tr><th scope=row>22</th><td>4.8</td><td>54</td><td>49.09747</td></tr>\n",
              "</tbody>\n",
              "</table>\n"
            ],
            "text/markdown": "\nA data.frame: 9 × 3\n\n| <!--/--> | Hours &lt;dbl&gt; | Scores &lt;int&gt; | Predicted_Score &lt;dbl&gt; |\n|---|---|---|---|\n| 1 | 2.5 | 21 | 27.15238 |\n| 5 | 3.5 | 30 | 36.69372 |\n| 7 | 9.2 | 88 | 91.07936 |\n| 8 | 5.5 | 60 | 55.77640 |\n| 16 | 8.9 | 95 | 88.21696 |\n| 18 | 1.9 | 24 | 21.42758 |\n| 19 | 6.1 | 67 | 61.50121 |\n| 21 | 2.7 | 30 | 29.06065 |\n| 22 | 4.8 | 54 | 49.09747 |\n\n",
            "text/latex": "A data.frame: 9 × 3\n\\begin{tabular}{r|lll}\n  & Hours & Scores & Predicted\\_Score\\\\\n  & <dbl> & <int> & <dbl>\\\\\n\\hline\n\t1 & 2.5 & 21 & 27.15238\\\\\n\t5 & 3.5 & 30 & 36.69372\\\\\n\t7 & 9.2 & 88 & 91.07936\\\\\n\t8 & 5.5 & 60 & 55.77640\\\\\n\t16 & 8.9 & 95 & 88.21696\\\\\n\t18 & 1.9 & 24 & 21.42758\\\\\n\t19 & 6.1 & 67 & 61.50121\\\\\n\t21 & 2.7 & 30 & 29.06065\\\\\n\t22 & 4.8 & 54 & 49.09747\\\\\n\\end{tabular}\n",
            "text/plain": [
              "   Hours Scores Predicted_Score\n",
              "1  2.5   21     27.15238       \n",
              "5  3.5   30     36.69372       \n",
              "7  9.2   88     91.07936       \n",
              "8  5.5   60     55.77640       \n",
              "16 8.9   95     88.21696       \n",
              "18 1.9   24     21.42758       \n",
              "19 6.1   67     61.50121       \n",
              "21 2.7   30     29.06065       \n",
              "22 4.8   54     49.09747       "
            ]
          },
          "metadata": {}
        }
      ]
    },
    {
      "cell_type": "markdown",
      "source": [
        "**Predicting the score of a student who studied for 9.25 hours/day:**"
      ],
      "metadata": {
        "id": "Wln8Z7mNntZV"
      }
    },
    {
      "cell_type": "code",
      "source": [
        "predict(lmodel, data.frame(Hours = 9.25))"
      ],
      "metadata": {
        "colab": {
          "base_uri": "https://localhost:8080/",
          "height": 34
        },
        "id": "vEISe8ALoCe2",
        "outputId": "19123aab-0b4c-47f8-bbf8-fc0bb7ffd35d"
      },
      "execution_count": 39,
      "outputs": [
        {
          "output_type": "display_data",
          "data": {
            "text/html": [
              "<strong>1:</strong> 91.5564272782136"
            ],
            "text/markdown": "**1:** 91.5564272782136",
            "text/latex": "\\textbf{1:} 91.5564272782136",
            "text/plain": [
              "       1 \n",
              "91.55643 "
            ]
          },
          "metadata": {}
        }
      ]
    },
    {
      "cell_type": "markdown",
      "source": [
        "So, a student can get 91.55 on an average if he/she studies 9.25 hours/day."
      ],
      "metadata": {
        "id": "Fx3N4r5AwIhm"
      }
    },
    {
      "cell_type": "markdown",
      "source": [
        "###**Evaluating the model**"
      ],
      "metadata": {
        "id": "v0V0gUJYpd7-"
      }
    },
    {
      "cell_type": "code",
      "source": [
        "rmse(train$Scores,predict(lmodel,train))"
      ],
      "metadata": {
        "colab": {
          "base_uri": "https://localhost:8080/",
          "height": 34
        },
        "id": "w1fiketNsI63",
        "outputId": "2e74211b-281e-4dd6-b455-c39dbdf94759"
      },
      "execution_count": 40,
      "outputs": [
        {
          "output_type": "display_data",
          "data": {
            "text/html": [
              "5.67866923219183"
            ],
            "text/markdown": "5.67866923219183",
            "text/latex": "5.67866923219183",
            "text/plain": [
              "[1] 5.678669"
            ]
          },
          "metadata": {}
        }
      ]
    },
    {
      "cell_type": "markdown",
      "source": [
        "The prediction error RMSE (Root Mean Squared Error), representing the average difference between the observed known\n",
        "outcome values in the data and the predicted outcome values by the model. The lower the RMSE, the better the model. The\n",
        "prediction error RMSE is 5.678669"
      ],
      "metadata": {
        "id": "VJMsM7R7sNh6"
      }
    }
  ]
}